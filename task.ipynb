{
 "cells": [
  {
   "cell_type": "code",
   "execution_count": null,
   "metadata": {},
   "outputs": [],
   "source": [
    "#Import necessary Libraries\n",
    "import math\n",
    "import itertools\n",
    "import random\n",
    "import numpy as np\n",
    "import matplotlib.pyplot as plt\n",
    "\n",
    "#Reference: https://github.com/ianmcloughlin/2425_applied_statistics/blob/main/02_lady_tasting_tea.ipynb\n",
    "no_of_cups = 12\n",
    "with_milk = 6 \n",
    "#How many ways of guessing all 6 correctly?\n",
    "ways = math.comb(no_of_cups, with_milk)\n",
    "print (ways)\n",
    "#Prints 924\n",
    "\n",
    "#Probability of guessing all 6 correctly\n",
    "correct_guesses = 1\n",
    "probability_all_correct = correct_guesses / ways\n",
    "print(\"Probability of guessing all 6 cups correct:\", probability_all_correct)\n",
    "\n",
    "#5 correct 1 wrong\n",
    "#correct_guesses = 1: Since there is only one possible combination that would be correct, correct_guesses is set to 1.\n",
    "#probability_all_correct = correct_guesses / ways: Shows the probability of guessing all 6 cups correctly by dividing the 1 correct combination by the total number of combinations (ways).\n",
    "correct = math.comb(with_milk, 5) \n",
    "wrong = math.comb(no_of_cups - with_milk, 1)  \n",
    "total = correct * wrong\n",
    "probability = correct / total \n"
   ]
  }
 ],
 "metadata": {
  "kernelspec": {
   "display_name": "Python 3",
   "language": "python",
   "name": "python3"
  },
  "language_info": {
   "name": "python",
   "version": "3.10.11"
  }
 },
 "nbformat": 4,
 "nbformat_minor": 2
}

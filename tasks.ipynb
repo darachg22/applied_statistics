{
 "cells": [
  {
   "cell_type": "markdown",
   "metadata": {},
   "source": [
    "***Introduction***"
   ]
  },
  {
   "cell_type": "markdown",
   "metadata": {},
   "source": [
    "***Table of Contents***"
   ]
  },
  {
   "cell_type": "markdown",
   "metadata": {},
   "source": [
    "***Task 1***"
   ]
  },
  {
   "cell_type": "markdown",
   "metadata": {},
   "source": [
    "<img src=\"images/istockphoto-1191544373-612x612.jpg\" width=\"200\">"
   ]
  },
  {
   "cell_type": "markdown",
   "metadata": {},
   "source": [
    "**1.1 Introduction**"
   ]
  },
  {
   "cell_type": "markdown",
   "metadata": {},
   "source": [
    "In this opening task, I have to look at the Lady tasting Tea experiment wherein there are 12 cups, 6 with milk first and 6 with the tea first, and a person guesses which cups have milk first. \n",
    "\n",
    "To do this I have to create a code that calculates; The probability of guessing six cups correctly and the probability of making one error. "
   ]
  },
  {
   "cell_type": "markdown",
   "metadata": {},
   "source": [
    "**1.2 Libraries Used:**"
   ]
  },
  {
   "cell_type": "code",
   "execution_count": 1,
   "metadata": {},
   "outputs": [],
   "source": [
    "#Import necessary Libraries\n",
    "import math"
   ]
  },
  {
   "cell_type": "markdown",
   "metadata": {},
   "source": [
    "***Math*** = used for ***comb()*** function which is used to comute combinations. It calculates how many ways you can select 6 cups out of 12. "
   ]
  },
  {
   "cell_type": "markdown",
   "metadata": {},
   "source": [
    "**1.3 Code Breakdown**"
   ]
  },
  {
   "cell_type": "code",
   "execution_count": 2,
   "metadata": {},
   "outputs": [],
   "source": [
    "#Reference: https://github.com/ianmcloughlin/2425_applied_statistics/blob/main/02_lady_tasting_tea.ipynb\n",
    "no_of_cups = 12\n",
    "with_milk = 6 "
   ]
  },
  {
   "cell_type": "markdown",
   "metadata": {},
   "source": [
    "Above, two variables are defined; the number of cups and the number of cups that contain milk. These set up the problem of finding how many ways the cups can be arranged. "
   ]
  },
  {
   "cell_type": "code",
   "execution_count": 3,
   "metadata": {},
   "outputs": [
    {
     "name": "stdout",
     "output_type": "stream",
     "text": [
      "924\n"
     ]
    }
   ],
   "source": [
    "#How many ways of guessing all 6 correctly?\n",
    "ways = math.comb(no_of_cups, with_milk)\n",
    "print (ways)\n",
    "#Prints 924"
   ]
  },
  {
   "cell_type": "markdown",
   "metadata": {},
   "source": [
    "This line uses the ***math.comb(n, k)*** to perform the appropriate calculation. It then prints the result (924)."
   ]
  },
  {
   "cell_type": "code",
   "execution_count": 4,
   "metadata": {},
   "outputs": [
    {
     "name": "stdout",
     "output_type": "stream",
     "text": [
      "Probability of guessing all 6 cups correct: 0.0010822510822510823\n"
     ]
    }
   ],
   "source": [
    "#Probability of guessing all 6 correctly\n",
    "correct_guesses = 1\n",
    "probability_all_correct = correct_guesses / ways\n",
    "print(\"Probability of guessing all 6 cups correct:\", probability_all_correct)"
   ]
  },
  {
   "cell_type": "markdown",
   "metadata": {},
   "source": [
    "This begins with setting the variable for correct guesses and establishes there is only one correct way. \n",
    "The code then calculates probablity of guessing all 6 cups correctly (***probability_all_correct***) by dividing ***correct_guesses*** by ***ways*** and then prints the results. "
   ]
  },
  {
   "cell_type": "code",
   "execution_count": 5,
   "metadata": {},
   "outputs": [],
   "source": [
    "#5 correct 1 wrong\n",
    "correct = math.comb(with_milk, 5) \n",
    "wrong = math.comb(no_of_cups - with_milk, 1)  \n",
    "total = correct * wrong\n",
    "probability = correct / total \n"
   ]
  },
  {
   "cell_type": "code",
   "execution_count": 6,
   "metadata": {},
   "outputs": [],
   "source": [
    "correct = math.comb(with_milk, 5) "
   ]
  },
  {
   "cell_type": "markdown",
   "metadata": {},
   "source": [
    "This section of code begins with a calculation of how many ways you can select 5 cups that contain milk from 6 cups.  "
   ]
  },
  {
   "cell_type": "code",
   "execution_count": 7,
   "metadata": {},
   "outputs": [],
   "source": [
    "wrong = math.comb(no_of_cups - with_milk, 1)"
   ]
  },
  {
   "cell_type": "markdown",
   "metadata": {},
   "source": [
    "The code then calculates how many ways you can choose one cup without milk from 6 cups that don't have milk."
   ]
  },
  {
   "cell_type": "code",
   "execution_count": 8,
   "metadata": {},
   "outputs": [],
   "source": [
    "total = correct * wrong"
   ]
  },
  {
   "cell_type": "markdown",
   "metadata": {},
   "source": [
    "The code then calculates how many ways you can guess 5 cups with milk correctly and 1 cup without milk incorrectly. "
   ]
  },
  {
   "cell_type": "code",
   "execution_count": null,
   "metadata": {},
   "outputs": [
    {
     "name": "stdout",
     "output_type": "stream",
     "text": [
      "Probability of guessing 5 cups with milk and 1 cup without milk correctly: 0.16666666666666666\n"
     ]
    }
   ],
   "source": [
    "probability = correct / total \n",
    "print(\"Probability of guessing 5 cups with milk and 1 cup without milk:\", probability)"
   ]
  },
  {
   "cell_type": "markdown",
   "metadata": {},
   "source": [
    "Finally the code calculates the probability of guessing exactly 5 cups with milk correctly and 1 cup without milk incorrectly and prints the result. "
   ]
  },
  {
   "cell_type": "markdown",
   "metadata": {},
   "source": [
    "**1.4 Would you accept 2 errors?**\n",
    "\n",
    "I would not accept two errors as it increases the chance of random guesses."
   ]
  },
  {
   "cell_type": "markdown",
   "metadata": {},
   "source": [
    "***Task 2***"
   ]
  },
  {
   "cell_type": "markdown",
   "metadata": {},
   "source": [
    "**2.1 Introduction**"
   ]
  },
  {
   "cell_type": "markdown",
   "metadata": {},
   "source": [
    "This task looks at whether numpy.random.normal() generates values following a normal distribution. Here I will use a sample with 100,000 values, with a mean of 10 and a standard deviation of 3, to achieve this."
   ]
  },
  {
   "cell_type": "markdown",
   "metadata": {},
   "source": [
    "**2.2 Libraries** "
   ]
  },
  {
   "cell_type": "code",
   "execution_count": 91,
   "metadata": {},
   "outputs": [],
   "source": [
    "import numpy as np\n",
    "import matplotlib.pyplot as plt \n",
    "import scipy.stats as stats"
   ]
  },
  {
   "cell_type": "markdown",
   "metadata": {},
   "source": [
    "The above libraries are imported:\n",
    "\n",
    "Numpy- used for wokring with arrays.\n",
    "\n",
    "Matplotlib- used to plot data.\n",
    "\n",
    "Scipy.stats- for statistical work. \n"
   ]
  },
  {
   "cell_type": "code",
   "execution_count": 93,
   "metadata": {},
   "outputs": [],
   "source": [
    "#Generate the data\n",
    "data = np.random.normal(loc=10.0, scale=3.0, size=100000)\n"
   ]
  },
  {
   "cell_type": "markdown",
   "metadata": {},
   "source": [
    "Next, using ***np.random.normal***, the data is created with 100,000 values. scale represents the standard deviation needed and loc adds a mean of 10.0 to the code. "
   ]
  },
  {
   "cell_type": "code",
   "execution_count": 94,
   "metadata": {},
   "outputs": [],
   "source": [
    "#Test if the sample came from normal distribution\n",
    "result = stats.shapiro(data)"
   ]
  },
  {
   "cell_type": "markdown",
   "metadata": {},
   "source": [
    "Above the data is tested to see if the sample came from normal distribution. ***stats.shapiro(data)*** is used and this prints the p-value and test statistic. The data is then put into 'Result' in order to print the data below. "
   ]
  },
  {
   "cell_type": "code",
   "execution_count": 95,
   "metadata": {},
   "outputs": [
    {
     "name": "stdout",
     "output_type": "stream",
     "text": [
      "ShapiroResult(statistic=0.9999851584434509, pvalue=0.9868301749229431)\n"
     ]
    }
   ],
   "source": [
    "print (result) "
   ]
  },
  {
   "cell_type": "markdown",
   "metadata": {},
   "source": [
    "**2.3 Explanation of results:** "
   ]
  },
  {
   "cell_type": "markdown",
   "metadata": {},
   "source": [
    "As a the test value is near 1 this also suggests the data fits a normal distribution curve as 'The value of this statistic tends to be high (close to 1) for samples drawn from a normal distribution.' (https://docs.scipy.org/doc/scipy/reference/generated/scipy.stats.shapiro.html)\n",
    "\n",
    "With the test statistic close to 1 (0.9999783635139465). '...(a) p-value corresponds to the area under the curve where extreme values are not likely to be the result of chance.'(https://www.nlm.nih.gov/oet/ed/stats/02-940.html#:~:text=A%20p%2Dvalue%20is%20the,be%20the%20result%20of%20chance.) A high p value also suggests a normal distribution i.e. If the result is higher that 0.5."
   ]
  },
  {
   "cell_type": "markdown",
   "metadata": {},
   "source": [
    "**2.4 Plotting the Results**"
   ]
  },
  {
   "cell_type": "code",
   "execution_count": null,
   "metadata": {},
   "outputs": [
    {
     "data": {
      "image/png": "[encoded data removed]",
      "text/plain": [
       "<Figure size 640x480 with 1 Axes>"
      ]
     },
     "metadata": {},
     "output_type": "display_data"
    }
   ],
   "source": [
    "#Plotting the results\n",
    "plt.hist(data, bins=50, density=True, alpha=0.6, label='Sample Data')\n",
    "x = np.linspace(0, 20, 1000)\n",
    "plt.plot(x, stats.norm.pdf(x, 10, 3), 'r-', label='PDF')\n",
    "plt.legend()\n",
    "plt.show()"
   ]
  },
  {
   "cell_type": "markdown",
   "metadata": {},
   "source": [
    "Using the lecture notes as a reference, the above code and plot shows the data versus the PDF (probability distribution function). \n",
    "\n",
    "The plot begins by creating a histogram with 50 bins and uses ***density=true*** to normalise it. \n",
    "\n",
    "***np.linspace()*** create 1000 points to represent the x-axis. ***plt.plt()*** plots the PDF on the same graph. \n",
    "\n",
    "***plt.legend()*** adds a legend and ***plt.show*** shows the plot. "
   ]
  },
  {
   "cell_type": "markdown",
   "metadata": {},
   "source": [
    "***Task 3***"
   ]
  },
  {
   "cell_type": "markdown",
   "metadata": {},
   "source": [
    "**3.1 Introduction**"
   ]
  },
  {
   "cell_type": "markdown",
   "metadata": {},
   "source": [
    "In this task, I have to calculate the t-statistic based on the given dataset and then compare it to the value given by ***scipy.stats***. "
   ]
  },
  {
   "cell_type": "markdown",
   "metadata": {},
   "source": [
    "**3.2 Libraries Used**"
   ]
  },
  {
   "cell_type": "code",
   "execution_count": 27,
   "metadata": {},
   "outputs": [],
   "source": [
    "import numpy as np\n",
    "import scipy.stats as stats"
   ]
  },
  {
   "cell_type": "markdown",
   "metadata": {},
   "source": [
    "***numpy***-used for wokring with arrays.\n",
    "\n",
    "***scipy.stats***- for statistical work. \n"
   ]
  },
  {
   "cell_type": "markdown",
   "metadata": {},
   "source": [
    "**3.3 Code and Explanation**"
   ]
  },
  {
   "cell_type": "code",
   "execution_count": 28,
   "metadata": {},
   "outputs": [],
   "source": [
    "#Data \n",
    "\n",
    "before = np.array([63,68,70,64,74,67,70,57,66,65])\n",
    "\n",
    "after = np.array([64,64,68,64,73,70,72,54,61,63])"
   ]
  },
  {
   "cell_type": "markdown",
   "metadata": {},
   "source": [
    "As the lecture code creates a random dataset, I thought of ways to input the data set given and decided to input the numbers manually into two arrays 'before' and 'after'."
   ]
  },
  {
   "cell_type": "markdown",
   "metadata": {},
   "source": [
    "Using the above source code from the lecture notes I used the ***stats.ttest_rel*** to calculate the t-statistic of the sets."
   ]
  },
  {
   "cell_type": "code",
   "execution_count": 34,
   "metadata": {},
   "outputs": [
    {
     "name": "stdout",
     "output_type": "stream",
     "text": [
      "TtestResult(statistic=1.337227482480628, pvalue=0.21396011317404623, df=9)\n"
     ]
    }
   ],
   "source": [
    "#Paired samples t-test.\n",
    "test = stats.ttest_rel(before, after)\n",
    "print (test)"
   ]
  },
  {
   "cell_type": "markdown",
   "metadata": {},
   "source": [
    "The results show the the p-value is greater than 0.05 that suggests there is no real difference in the mean heart rate."
   ]
  },
  {
   "cell_type": "markdown",
   "metadata": {},
   "source": [
    "***Task 4***"
   ]
  },
  {
   "cell_type": "markdown",
   "metadata": {},
   "source": [
    "**4.1 Introduction**"
   ]
  },
  {
   "cell_type": "markdown",
   "metadata": {},
   "source": [
    "In this test I will explore estimating the probability of commiting a type II error in a one-way ANOVA test. I will look at three samples, with given parameters to achieve this. "
   ]
  },
  {
   "cell_type": "markdown",
   "metadata": {},
   "source": [
    "**4.2 Code and Explanation**"
   ]
  },
  {
   "cell_type": "code",
   "execution_count": 10,
   "metadata": {},
   "outputs": [],
   "source": [
    "import numpy \n",
    "import scipy.stats as stats\n",
    "import pandas as pd"
   ]
  },
  {
   "cell_type": "code",
   "execution_count": 11,
   "metadata": {},
   "outputs": [],
   "source": [
    "no_type_ii = 0 "
   ]
  },
  {
   "cell_type": "code",
   "execution_count": 12,
   "metadata": {},
   "outputs": [],
   "source": [
    "def simulate_ttest(alpha=0.05):\n",
    "    sample_1 = np.random.normal (4.9, 0.1,100)\n",
    "    sample_2 = np.random.normal (5.0, 0.1,100)\n",
    "    sample_3 = np.random.normal (5.1, 0.1,100)\n",
    "    \n",
    "    _, p_value = stats.f_oneway(sample_1, sample_2, sample_3)\n",
    "    \n",
    "    return p_value >= alpha\n",
    "   \n"
   ]
  },
  {
   "cell_type": "code",
   "execution_count": 13,
   "metadata": {},
   "outputs": [
    {
     "ename": "NameError",
     "evalue": "name 'np' is not defined",
     "output_type": "error",
     "traceback": [
      "\u001b[1;31m---------------------------------------------------------------------------\u001b[0m",
      "\u001b[1;31mNameError\u001b[0m                                 Traceback (most recent call last)",
      "Cell \u001b[1;32mIn[13], line 2\u001b[0m\n\u001b[0;32m      1\u001b[0m \u001b[38;5;28;01mfor\u001b[39;00m _ \u001b[38;5;129;01min\u001b[39;00m \u001b[38;5;28mrange\u001b[39m(\u001b[38;5;241m10000\u001b[39m):\n\u001b[1;32m----> 2\u001b[0m      \u001b[38;5;28;01mif\u001b[39;00m \u001b[43msimulate_ttest\u001b[49m\u001b[43m(\u001b[49m\u001b[43m)\u001b[49m:\n\u001b[0;32m      3\u001b[0m         no_type_ii \u001b[38;5;241m+\u001b[39m\u001b[38;5;241m=\u001b[39m \u001b[38;5;241m1\u001b[39m\n\u001b[0;32m      5\u001b[0m probability \u001b[38;5;241m=\u001b[39m no_type_ii\n",
      "Cell \u001b[1;32mIn[12], line 2\u001b[0m, in \u001b[0;36msimulate_ttest\u001b[1;34m(alpha)\u001b[0m\n\u001b[0;32m      1\u001b[0m \u001b[38;5;28;01mdef\u001b[39;00m \u001b[38;5;21msimulate_ttest\u001b[39m(alpha\u001b[38;5;241m=\u001b[39m\u001b[38;5;241m0.05\u001b[39m):\n\u001b[1;32m----> 2\u001b[0m     sample_1 \u001b[38;5;241m=\u001b[39m \u001b[43mnp\u001b[49m\u001b[38;5;241m.\u001b[39mrandom\u001b[38;5;241m.\u001b[39mnormal (\u001b[38;5;241m4.9\u001b[39m, \u001b[38;5;241m0.1\u001b[39m,\u001b[38;5;241m100\u001b[39m)\n\u001b[0;32m      3\u001b[0m     sample_2 \u001b[38;5;241m=\u001b[39m np\u001b[38;5;241m.\u001b[39mrandom\u001b[38;5;241m.\u001b[39mnormal (\u001b[38;5;241m5.0\u001b[39m, \u001b[38;5;241m0.1\u001b[39m,\u001b[38;5;241m100\u001b[39m)\n\u001b[0;32m      4\u001b[0m     sample_3 \u001b[38;5;241m=\u001b[39m np\u001b[38;5;241m.\u001b[39mrandom\u001b[38;5;241m.\u001b[39mnormal (\u001b[38;5;241m5.1\u001b[39m, \u001b[38;5;241m0.1\u001b[39m,\u001b[38;5;241m100\u001b[39m)\n",
      "\u001b[1;31mNameError\u001b[0m: name 'np' is not defined"
     ]
    }
   ],
   "source": [
    "for _ in range(10000):\n",
    "     if simulate_ttest():\n",
    "        no_type_ii += 1\n",
    "\n",
    "probability = no_type_ii\n",
    "print(probability)"
   ]
  },
  {
   "cell_type": "markdown",
   "metadata": {},
   "source": [
    "Codes to use:"
   ]
  }
 ],
 "metadata": {
  "kernelspec": {
   "display_name": "Python 3",
   "language": "python",
   "name": "python3"
  },
  "language_info": {
   "codemirror_mode": {
    "name": "ipython",
    "version": 3
   },
   "file_extension": ".py",
   "mimetype": "text/x-python",
   "name": "python",
   "nbconvert_exporter": "python",
   "pygments_lexer": "ipython3",
   "version": "3.10.11"
  }
 },
 "nbformat": 4,
 "nbformat_minor": 2
}

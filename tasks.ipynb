{
 "cells": [
  {
   "cell_type": "markdown",
   "metadata": {},
   "source": [
    "***Task 1***"
   ]
  },
  {
   "cell_type": "markdown",
   "metadata": {},
   "source": [
    "<img src=\"images/istockphoto-1191544373-612x612.jpg\" width=\"200\">"
   ]
  },
  {
   "cell_type": "markdown",
   "metadata": {},
   "source": [
    "Introduction"
   ]
  },
  {
   "cell_type": "markdown",
   "metadata": {},
   "source": [
    "Libraries Used:"
   ]
  },
  {
   "cell_type": "code",
   "execution_count": 2,
   "metadata": {},
   "outputs": [],
   "source": [
    "#Import necessary Libraries\n",
    "import math"
   ]
  },
  {
   "cell_type": "markdown",
   "metadata": {},
   "source": [
    "***Math*** = used for ***comb()*** function which is used to comute combinations. It calculates how many ways you can select 6 cups out of 12. "
   ]
  },
  {
   "cell_type": "markdown",
   "metadata": {},
   "source": [
    "Code Breakdown"
   ]
  },
  {
   "cell_type": "code",
   "execution_count": 3,
   "metadata": {},
   "outputs": [],
   "source": [
    "#Reference: https://github.com/ianmcloughlin/2425_applied_statistics/blob/main/02_lady_tasting_tea.ipynb\n",
    "no_of_cups = 12\n",
    "with_milk = 6 "
   ]
  },
  {
   "cell_type": "markdown",
   "metadata": {},
   "source": [
    "Above, two variables are defined; the number of cups and the number of cups that contain milk. These set up the problem of finding how many ways the cups can be arranged. "
   ]
  },
  {
   "cell_type": "code",
   "execution_count": 4,
   "metadata": {},
   "outputs": [
    {
     "name": "stdout",
     "output_type": "stream",
     "text": [
      "924\n"
     ]
    }
   ],
   "source": [
    "#How many ways of guessing all 6 correctly?\n",
    "ways = math.comb(no_of_cups, with_milk)\n",
    "print (ways)\n",
    "#Prints 924"
   ]
  },
  {
   "cell_type": "markdown",
   "metadata": {},
   "source": [
    "This line uses the ***math.comb(n, k)*** to perform the appropriate calculation. It then prints the result (924)."
   ]
  },
  {
   "cell_type": "code",
   "execution_count": 5,
   "metadata": {},
   "outputs": [
    {
     "name": "stdout",
     "output_type": "stream",
     "text": [
      "Probability of guessing all 6 cups correct: 0.0010822510822510823\n"
     ]
    }
   ],
   "source": [
    "#Probability of guessing all 6 correctly\n",
    "correct_guesses = 1\n",
    "probability_all_correct = correct_guesses / ways\n",
    "print(\"Probability of guessing all 6 cups correct:\", probability_all_correct)"
   ]
  },
  {
   "cell_type": "markdown",
   "metadata": {},
   "source": [
    "This begins with setting the variable for correct guesses and establishes there is only one correct way. \n",
    "The code then calculates probablity of guessing all 6 cups correctly (***probability_all_correct***) by dividing ***correct_guesses*** by ***ways*** and then prints the results. "
   ]
  },
  {
   "cell_type": "code",
   "execution_count": 6,
   "metadata": {},
   "outputs": [],
   "source": [
    "#5 correct 1 wrong\n",
    "#correct_guesses = 1: Since there is only one possible combination that would be correct, correct_guesses is set to 1.\n",
    "#probability_all_correct = correct_guesses / ways: Shows the probability of guessing all 6 cups correctly by dividing the 1 correct combination by the total number of combinations (ways).\n",
    "correct = math.comb(with_milk, 5) \n",
    "wrong = math.comb(no_of_cups - with_milk, 1)  \n",
    "total = correct * wrong\n",
    "probability = correct / total \n"
   ]
  },
  {
   "cell_type": "code",
   "execution_count": 7,
   "metadata": {},
   "outputs": [],
   "source": [
    "correct = math.comb(with_milk, 5) "
   ]
  },
  {
   "cell_type": "markdown",
   "metadata": {},
   "source": [
    "This section of code begins with a calculation of how many ways you can select 5 cups that contain milk from 6 cups.  "
   ]
  },
  {
   "cell_type": "code",
   "execution_count": 8,
   "metadata": {},
   "outputs": [],
   "source": [
    "wrong = math.comb(no_of_cups - with_milk, 1)"
   ]
  },
  {
   "cell_type": "markdown",
   "metadata": {},
   "source": [
    "The code then calculates how many ways you can choose one cup without milk from 6 cups that don't have milk."
   ]
  },
  {
   "cell_type": "code",
   "execution_count": 9,
   "metadata": {},
   "outputs": [],
   "source": [
    "total = correct * wrong"
   ]
  },
  {
   "cell_type": "markdown",
   "metadata": {},
   "source": [
    "The code then calculates how many ways you can guess 5 cups with milk correctly and 1 cup without milk incorrectly. "
   ]
  },
  {
   "cell_type": "code",
   "execution_count": 11,
   "metadata": {},
   "outputs": [
    {
     "name": "stdout",
     "output_type": "stream",
     "text": [
      "Probability of guessing 5 cups with milk and 1 cup without milk correctly: 0.16666666666666666\n"
     ]
    }
   ],
   "source": [
    "probability = correct / total \n",
    "print(\"Probability of guessing 5 cups with milk and 1 cup without milk correctly:\", probability)"
   ]
  },
  {
   "cell_type": "markdown",
   "metadata": {},
   "source": [
    "Finally the code calculates the probability of guessing exactly 5 cups with milk correctly and 1 cup without milk incorrectly and prints the result. "
   ]
  }
 ],
 "metadata": {
  "kernelspec": {
   "display_name": "Python 3",
   "language": "python",
   "name": "python3"
  },
  "language_info": {
   "codemirror_mode": {
    "name": "ipython",
    "version": 3
   },
   "file_extension": ".py",
   "mimetype": "text/x-python",
   "name": "python",
   "nbconvert_exporter": "python",
   "pygments_lexer": "ipython3",
   "version": "3.10.11"
  }
 },
 "nbformat": 4,
 "nbformat_minor": 2
}

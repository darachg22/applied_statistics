{
 "cells": [
  {
   "cell_type": "markdown",
   "metadata": {},
   "source": [
    "***Task 1***"
   ]
  },
  {
   "cell_type": "markdown",
   "metadata": {},
   "source": [
    "<img src=\"images/istockphoto-1191544373-612x612.jpg\" width=\"200\">"
   ]
  },
  {
   "cell_type": "markdown",
   "metadata": {},
   "source": [
    "Introduction"
   ]
  },
  {
   "cell_type": "markdown",
   "metadata": {},
   "source": [
    "Suppose we alter the Lady Tasting Tea experiment to involve twelve cups of tea. Six have the milk in first and the other six having tea in first. A person claims they have the special power of being able to tell whether the tea or the milk went into a cup first upon tasting it. You agree to accept their claim if they can tell which of the six cups in your experiment had the milk in first.\n",
    "\n",
    "Calculate, using Python, the probability that they select the correct six cups. Here you should assume that they have no special powers in figuring it out, that they are just guessing. Remember to show and justify your workings in code and MarkDown cells.\n",
    "\n",
    "Suppose, now, you are willing to accept one error. Once they select the six cups they think had the milk in first, you will give them the benefit of the doubt should they have selected at least five of the correct cups. Calculate the probability, assuming they have no special powers, that the person makes at most one error.\n",
    "\n",
    "Would you accept two errors? Explain."
   ]
  },
  {
   "cell_type": "markdown",
   "metadata": {},
   "source": [
    "Libraries Used:"
   ]
  },
  {
   "cell_type": "code",
   "execution_count": 2,
   "metadata": {},
   "outputs": [],
   "source": [
    "#Import necessary Libraries\n",
    "import math"
   ]
  },
  {
   "cell_type": "markdown",
   "metadata": {},
   "source": [
    "***Math*** = used for ***comb()*** function which is used to comute combinations. It calculates how many ways you can select 6 cups out of 12. "
   ]
  },
  {
   "cell_type": "markdown",
   "metadata": {},
   "source": [
    "Code Breakdown"
   ]
  },
  {
   "cell_type": "code",
   "execution_count": 3,
   "metadata": {},
   "outputs": [],
   "source": [
    "#Reference: https://github.com/ianmcloughlin/2425_applied_statistics/blob/main/02_lady_tasting_tea.ipynb\n",
    "no_of_cups = 12\n",
    "with_milk = 6 "
   ]
  },
  {
   "cell_type": "markdown",
   "metadata": {},
   "source": [
    "Above, two variables are defined; the number of cups and the number of cups that contain milk. These set up the problem of finding how many ways the cups can be arranged. "
   ]
  },
  {
   "cell_type": "code",
   "execution_count": 4,
   "metadata": {},
   "outputs": [
    {
     "name": "stdout",
     "output_type": "stream",
     "text": [
      "924\n"
     ]
    }
   ],
   "source": [
    "#How many ways of guessing all 6 correctly?\n",
    "ways = math.comb(no_of_cups, with_milk)\n",
    "print (ways)\n",
    "#Prints 924"
   ]
  },
  {
   "cell_type": "markdown",
   "metadata": {},
   "source": [
    "This line uses the ***math.comb(n, k)*** to perform the appropriate calculation. It then prints the result (924)."
   ]
  },
  {
   "cell_type": "code",
   "execution_count": 5,
   "metadata": {},
   "outputs": [
    {
     "name": "stdout",
     "output_type": "stream",
     "text": [
      "Probability of guessing all 6 cups correct: 0.0010822510822510823\n"
     ]
    }
   ],
   "source": [
    "#Probability of guessing all 6 correctly\n",
    "correct_guesses = 1\n",
    "probability_all_correct = correct_guesses / ways\n",
    "print(\"Probability of guessing all 6 cups correct:\", probability_all_correct)"
   ]
  },
  {
   "cell_type": "markdown",
   "metadata": {},
   "source": [
    "This begins with setting the variable for correct guesses and establishes there is only one correct way. \n",
    "The code then calculates probablity of guessing all 6 cups correctly (***probability_all_correct***) by dividing ***correct_guesses*** by ***ways*** and then prints the results. "
   ]
  },
  {
   "cell_type": "code",
   "execution_count": 6,
   "metadata": {},
   "outputs": [],
   "source": [
    "#5 correct 1 wrong\n",
    "#correct_guesses = 1: Since there is only one possible combination that would be correct, correct_guesses is set to 1.\n",
    "#probability_all_correct = correct_guesses / ways: Shows the probability of guessing all 6 cups correctly by dividing the 1 correct combination by the total number of combinations (ways).\n",
    "correct = math.comb(with_milk, 5) \n",
    "wrong = math.comb(no_of_cups - with_milk, 1)  \n",
    "total = correct * wrong\n",
    "probability = correct / total \n"
   ]
  },
  {
   "cell_type": "code",
   "execution_count": 7,
   "metadata": {},
   "outputs": [],
   "source": [
    "correct = math.comb(with_milk, 5) "
   ]
  },
  {
   "cell_type": "markdown",
   "metadata": {},
   "source": [
    "This section of code begins with a calculation of how many ways you can select 5 cups that contain milk from 6 cups.  "
   ]
  },
  {
   "cell_type": "code",
   "execution_count": 8,
   "metadata": {},
   "outputs": [],
   "source": [
    "wrong = math.comb(no_of_cups - with_milk, 1)"
   ]
  },
  {
   "cell_type": "markdown",
   "metadata": {},
   "source": [
    "The code then calculates how many ways you can choose one cup without milk from 6 cups that don't have milk."
   ]
  },
  {
   "cell_type": "code",
   "execution_count": 9,
   "metadata": {},
   "outputs": [],
   "source": [
    "total = correct * wrong"
   ]
  },
  {
   "cell_type": "markdown",
   "metadata": {},
   "source": [
    "The code then calculates how many ways you can guess 5 cups with milk correctly and 1 cup without milk incorrectly. "
   ]
  },
  {
   "cell_type": "code",
   "execution_count": 11,
   "metadata": {},
   "outputs": [
    {
     "name": "stdout",
     "output_type": "stream",
     "text": [
      "Probability of guessing 5 cups with milk and 1 cup without milk correctly: 0.16666666666666666\n"
     ]
    }
   ],
   "source": [
    "probability = correct / total \n",
    "print(\"Probability of guessing 5 cups with milk and 1 cup without milk correctly:\", probability)"
   ]
  },
  {
   "cell_type": "markdown",
   "metadata": {},
   "source": [
    "Finally the code calculates the probability of guessing exactly 5 cups with milk correctly and 1 cup without milk incorrectly and prints the result. "
   ]
  },
  {
   "cell_type": "markdown",
   "metadata": {},
   "source": [
    "Would you accept 2 errors?"
   ]
  },
  {
   "cell_type": "markdown",
   "metadata": {},
   "source": [
    "Task 2"
   ]
  },
  {
   "cell_type": "markdown",
   "metadata": {},
   "source": [
    "Introduction"
   ]
  },
  {
   "cell_type": "markdown",
   "metadata": {},
   "source": [
    "numpy's Normal Distribution\n",
    "In this task you will assess whether numpy.random.normal() properly generates normal values. To begin, generate a sample of one hundred thousand values using the function with mean 10.0 and standard deviation 3.0.\n",
    "\n",
    "Use the scipy.stats.shapiro() function to test whether your sample came from a normal distribution. Explain the results and output.\n",
    "\n",
    "Plot a histogram of your values and plot the corresponding normal distribution probability density function on top of it."
   ]
  },
  {
   "cell_type": "markdown",
   "metadata": {},
   "source": [
    "Libraries "
   ]
  },
  {
   "cell_type": "code",
   "execution_count": 22,
   "metadata": {},
   "outputs": [],
   "source": [
    "import numpy as np\n",
    "import matplotlib.pyplot as plt \n",
    "import scipy.stats as stats"
   ]
  },
  {
   "cell_type": "markdown",
   "metadata": {},
   "source": [
    "The above libraries are imported:\n",
    "\n",
    "Numpy- used for wokring with arrays.\n",
    "\n",
    "Matplotlib- used to plot data.\n",
    "\n",
    "Scipy.stats- for statistical work. \n"
   ]
  },
  {
   "cell_type": "code",
   "execution_count": 23,
   "metadata": {},
   "outputs": [],
   "source": [
    "#Generate the data\n",
    "data = np.random.normal(loc=10.0, scale=3.0, size=100000)\n"
   ]
  },
  {
   "cell_type": "markdown",
   "metadata": {},
   "source": [
    "Next, using ***np.random.normal***, the data is created with 100,000 values. scale represents the standard deviation needed and loc adds a mean of 10.0 to the code. "
   ]
  },
  {
   "cell_type": "code",
   "execution_count": 24,
   "metadata": {},
   "outputs": [
    {
     "name": "stderr",
     "output_type": "stream",
     "text": [
      "C:\\Users\\darac\\AppData\\Local\\Packages\\PythonSoftwareFoundation.Python.3.10_qbz5n2kfra8p0\\LocalCache\\local-packages\\Python310\\site-packages\\scipy\\stats\\_morestats.py:1882: UserWarning: p-value may not be accurate for N > 5000.\n",
      "  warnings.warn(\"p-value may not be accurate for N > 5000.\")\n"
     ]
    }
   ],
   "source": [
    "#Test if the sample came from normal distribution\n",
    "result = stats.shapiro(data)"
   ]
  },
  {
   "cell_type": "markdown",
   "metadata": {},
   "source": [
    "Above the data is tested to see if the sample came from normal distribution. ***stats.shapiro(data)*** is used and this prints the p-value and test statistic. The data is then put into 'Result' in order to print the data below. "
   ]
  },
  {
   "cell_type": "code",
   "execution_count": 25,
   "metadata": {},
   "outputs": [
    {
     "name": "stdout",
     "output_type": "stream",
     "text": [
      "ShapiroResult(statistic=0.99996018409729, pvalue=0.2920783460140228)\n"
     ]
    }
   ],
   "source": [
    "print (result) "
   ]
  },
  {
   "cell_type": "markdown",
   "metadata": {},
   "source": [
    "Explanation of results: "
   ]
  },
  {
   "cell_type": "markdown",
   "metadata": {},
   "source": [
    "As a the test value is near 1 this also suggests the data fits a normal distribution curve as 'The value of this statistic tends to be high (close to 1) for samples drawn from a normal distribution.' (https://docs.scipy.org/doc/scipy/reference/generated/scipy.stats.shapiro.html)\n",
    "\n",
    "With the test statistic close to 1 (0.9999783635139465). '...(a) p-value corresponds to the area under the curve where extreme values are not likely to be the result of chance.'(https://www.nlm.nih.gov/oet/ed/stats/02-940.html#:~:text=A%20p%2Dvalue%20is%20the,be%20the%20result%20of%20chance.) A high p value also suggests a normal distribution i.e. If the result is higher that 0.5."
   ]
  },
  {
   "cell_type": "markdown",
   "metadata": {},
   "source": [
    "Plotting the Results"
   ]
  },
  {
   "cell_type": "code",
   "execution_count": null,
   "metadata": {},
   "outputs": [
    {
     "data": {
      "image/png": "[encoded data removed]",
      "text/plain": [
       "<Figure size 640x480 with 1 Axes>"
      ]
     },
     "metadata": {},
     "output_type": "display_data"
    }
   ],
   "source": [
    "#Plotting the results\n",
    "plt.hist(data, bins=50, density=True, alpha=0.6, label='Sample Data')\n",
    "x = np.linspace(0, 20, 1000)\n",
    "plt.plot(x, stats.norm.pdf(x, 10, 3), 'r-', label='PDF')\n",
    "plt.legend()\n",
    "plt.show()"
   ]
  },
  {
   "cell_type": "markdown",
   "metadata": {},
   "source": [
    "Using the lecture notes as a reference, the above code and plot shows the data versus the PDF (probability distribution function). \n",
    "\n",
    "The plot begins by creating a histogram with 50 bins and uses ***density=true*** to normalise it. \n",
    "\n",
    "***np.linspace()*** create 1000 points to represent the x-axis. ***plt.plt()*** plots the PDF on the same graph. \n",
    "\n",
    "***plt.legend()*** adds a legend and ***plt.show*** shows the plot. "
   ]
  },
  {
   "cell_type": "markdown",
   "metadata": {},
   "source": [
    "References: \n",
    "\n",
    "https://docs.scipy.org/doc/scipy/reference/generated/scipy.stats.shapiro.html\n",
    "\n",
    "https://www.geeksforgeeks.org/how-to-perform-a-shapiro-wilk-test-in-python/\n",
    "\n",
    "https://stackoverflow.com/questions/62303050/pythonnumpy-what-is-loc-scl-parameter\n",
    "\n",
    "https://stackoverflow.com/questions/56015457/plotting-a-histogram-with-overlaid-pdf\n",
    "\n",
    "https://github.com/ianmcloughlin/2425_applied_statistics/blob/main/03_normal.ipynb \n",
    "\n"
   ]
  },
  {
   "cell_type": "markdown",
   "metadata": {},
   "source": [
    "Task 3"
   ]
  },
  {
   "attachments": {
    "image.png": {
     "image/png": "[encoded data removed]"
    }
   },
   "cell_type": "markdown",
   "metadata": {},
   "source": [
    "![image.png](attachment:image.png)"
   ]
  },
  {
   "cell_type": "markdown",
   "metadata": {},
   "source": [
    "In this task, I have to calculate the t-statistic based on the given dataset and then compare it to the value given by ***scipy.stats***. "
   ]
  },
  {
   "cell_type": "code",
   "execution_count": 27,
   "metadata": {},
   "outputs": [],
   "source": [
    "import numpy as np\n",
    "import scipy.stats as stats"
   ]
  },
  {
   "cell_type": "markdown",
   "metadata": {},
   "source": [
    "The libraries used are:\n",
    "\n",
    "***numpy***-used for wokring with arrays.\n",
    "\n",
    "***scipy.stats***- for statistical work. \n"
   ]
  },
  {
   "cell_type": "code",
   "execution_count": 28,
   "metadata": {},
   "outputs": [],
   "source": [
    "#Data \n",
    "\n",
    "before = np.array([63,68,70,64,74,67,70,57,66,65])\n",
    "\n",
    "after = np.array([64,64,68,64,73,70,72,54,61,63])"
   ]
  },
  {
   "cell_type": "markdown",
   "metadata": {},
   "source": [
    "As the lecture code creates a random dataset, I thought of ways to input the data set given and decided to input the numbers manually into two arrays 'before' and 'after'."
   ]
  },
  {
   "cell_type": "code",
   "execution_count": null,
   "metadata": {},
   "outputs": [],
   "source": [
    "#Paired samples t-test.\n",
    "#stats.ttest_rel(group_a, group_b)"
   ]
  },
  {
   "cell_type": "markdown",
   "metadata": {},
   "source": [
    "Using the above source code from the lecture notes I used the ***stats.ttest_rel*** to calculate the t-statistic of the sets."
   ]
  },
  {
   "cell_type": "code",
   "execution_count": 34,
   "metadata": {},
   "outputs": [
    {
     "name": "stdout",
     "output_type": "stream",
     "text": [
      "TtestResult(statistic=1.337227482480628, pvalue=0.21396011317404623, df=9)\n"
     ]
    }
   ],
   "source": [
    "#Paired samples t-test.\n",
    "test = stats.ttest_rel(before, after)\n",
    "print (test)"
   ]
  },
  {
   "cell_type": "markdown",
   "metadata": {},
   "source": [
    "The results show the the p-value is greater than 0.05 that suggests there is no real difference in the mean heart rate."
   ]
  },
  {
   "cell_type": "markdown",
   "metadata": {},
   "source": [
    "References\n",
    "\n",
    "https://docs.scipy.org/doc/scipy/reference/generated/scipy.stats.ttest_rel.html\n",
    "\n",
    "https://github.com/ianmcloughlin/2425_applied_statistics/blob/main/04_t_tests.ipynb \n",
    "\n",
    "https://stackoverflow.com/questions/58673808/t-statistic-for-the-above-samples-and-display-the-t-score-and-p-value-in-separa"
   ]
  },
  {
   "cell_type": "markdown",
   "metadata": {},
   "source": [
    "Task 4"
   ]
  },
  {
   "cell_type": "markdown",
   "metadata": {},
   "source": [
    "In this test we will estimate the probability of committing a type II error in specific circumstances. To begin, create a variable called no_type_ii and set it to 0.\n",
    "\n",
    "Now use a loop to perform the following test 10,000 times.\n",
    "\n",
    "Use numpy.random.normal to generate three samples with 100 values each. Give each a standard deviation of 0.1. Give the first sample a mean of 4.9, the second a mean of 5.0, and the third a mean of 5.1.\n",
    "\n",
    "Perform one-way anova on the three samples and add 1 to no_type_ii whenever a type II error occurs.\n",
    "\n",
    "Summarize and explain your results."
   ]
  },
  {
   "cell_type": "code",
   "execution_count": 35,
   "metadata": {},
   "outputs": [],
   "source": [
    "import numpy \n",
    "import scipy.stats as stats\n",
    "import pandas as pd"
   ]
  },
  {
   "cell_type": "code",
   "execution_count": 36,
   "metadata": {},
   "outputs": [],
   "source": [
    "#creating variable\n",
    "no_type_ii = 0 "
   ]
  },
  {
   "cell_type": "code",
   "execution_count": null,
   "metadata": {},
   "outputs": [],
   "source": [
    "#First sample.\n",
    "#sample_a = np.random.normal(loc=10.0, scale=1.0, size=50)"
   ]
  },
  {
   "cell_type": "code",
   "execution_count": 37,
   "metadata": {},
   "outputs": [],
   "source": [
    "#samples\n",
    "dataframe = {\n",
    "'sample_1': np.random.normal (4.9, 0.1,100),\n",
    "'sample_2': np.random.normal (5.0, 0.1,100),\n",
    "'sample_3': np.random.normal (5.1, 0.1,100)\n",
    "}\n",
    "df = pd.DataFrame(dataframe)\n"
   ]
  },
  {
   "cell_type": "code",
   "execution_count": 38,
   "metadata": {},
   "outputs": [
    {
     "data": {
      "text/plain": [
       "(117.94630309612931, 1.987641651535877e-38)"
      ]
     },
     "execution_count": 38,
     "metadata": {},
     "output_type": "execute_result"
    }
   ],
   "source": [
    "# Perform ANOVA.\n",
    "f_statistic, p_value = stats.f_oneway(df['sample_1'], df['sample_2'], df['sample_3'])\n",
    "\n",
    "# Show.\n",
    "f_statistic, p_value"
   ]
  }
 ],
 "metadata": {
  "kernelspec": {
   "display_name": "Python 3",
   "language": "python",
   "name": "python3"
  },
  "language_info": {
   "codemirror_mode": {
    "name": "ipython",
    "version": 3
   },
   "file_extension": ".py",
   "mimetype": "text/x-python",
   "name": "python",
   "nbconvert_exporter": "python",
   "pygments_lexer": "ipython3",
   "version": "3.10.11"
  }
 },
 "nbformat": 4,
 "nbformat_minor": 2
}
